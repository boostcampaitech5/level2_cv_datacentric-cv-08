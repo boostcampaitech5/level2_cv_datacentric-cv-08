{
 "cells": [
  {
   "cell_type": "code",
   "execution_count": 2,
   "id": "10716ffd-5272-4143-9a1f-549a8bc585c4",
   "metadata": {},
   "outputs": [],
   "source": [
    "%matplotlib inline\n",
    "import glob\n",
    "import json\n",
    "import matplotlib.pyplot as plt\n",
    "import pandas as pd\n",
    "import seaborn as sns\n",
    "from pathlib import Path # 파일 경로를 객체처럼 다룰 수 있다. os.path.join을 더이상 안써도됨\n",
    "from PIL import Image # 파이썬의 이미지를 처리할 수 있는 모듈\n",
    "from collections import Counter \n",
    "import numpy as np\n",
    "import cv2\n",
    "from matplotlib.patches import Rectangle"
   ]
  },
  {
   "cell_type": "code",
   "execution_count": 3,
   "id": "9c29abbb-b418-4763-a900-326782272784",
   "metadata": {},
   "outputs": [],
   "source": [
    "def read_json(filename):\n",
    "    with Path(filename).open(encoding='utf8') as handle:\n",
    "        ann = json.load(handle)\n",
    "    return ann"
   ]
  },
  {
   "cell_type": "code",
   "execution_count": null,
   "id": "e30b843d-79bc-470b-8234-40bab2d51aa8",
   "metadata": {},
   "outputs": [],
   "source": [
    "index = 11\n",
    "\n",
    "data = read_json(\"/opt/ml/input/data/medical/ufo/train.json\")\n",
    "image_name = list(data['images'].keys())[index]\n",
    "abs_path = f'data/medical/img/train/{image_name}'\n",
    "\n",
    "fig = plt.figure(figsize=(50, 100))\n",
    "ax = fig.add_subplot()\n",
    "with Path(abs_path) as object:\n",
    "    img = Image.open(object)\n",
    "    ax.imshow(img)\n",
    "\n",
    "    for _, v in data['images'][image_name]['words'].items():\n",
    "        points = v['points']\n",
    "        points.append(points[0])\n",
    "        xs, ys = zip(*points)\n",
    "        plt.plot(xs, ys, color='red')"
   ]
  }
 ],
 "metadata": {
  "kernelspec": {
   "display_name": "Python 3 (ipykernel)",
   "language": "python",
   "name": "python3"
  },
  "language_info": {
   "codemirror_mode": {
    "name": "ipython",
    "version": 3
   },
   "file_extension": ".py",
   "mimetype": "text/x-python",
   "name": "python",
   "nbconvert_exporter": "python",
   "pygments_lexer": "ipython3",
   "version": "3.8.5"
  }
 },
 "nbformat": 4,
 "nbformat_minor": 5
}
